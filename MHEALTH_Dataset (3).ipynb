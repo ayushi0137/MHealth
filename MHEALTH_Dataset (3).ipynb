{
  "nbformat": 4,
  "nbformat_minor": 0,
  "metadata": {
    "colab": {
      "name": "MHEALTH Dataset.ipynb",
      "provenance": [],
      "collapsed_sections": [],
      "machine_shape": "hm"
    },
    "kernelspec": {
      "name": "python3",
      "display_name": "Python 3"
    },
    "accelerator": "GPU"
  },
  "cells": [
    {
      "cell_type": "code",
      "metadata": {
        "id": "8ZGWYg9kxsvk",
        "colab_type": "code",
        "colab": {}
      },
      "source": [
        "import numpy as np\n",
        "import pandas as pd\n",
        "from sklearn.utils import shuffle\n",
        "from sklearn import preprocessing\n",
        "from sklearn.model_selection import train_test_split\n"
      ],
      "execution_count": 0,
      "outputs": []
    },
    {
      "cell_type": "code",
      "metadata": {
        "id": "vWqFgFifxSW6",
        "colab_type": "code",
        "outputId": "af15c805-aef9-49b2-dedd-5a31c1fa060f",
        "colab": {
          "base_uri": "https://localhost:8080/",
          "height": 120
        }
      },
      "source": [
        "from google.colab import drive\n",
        "drive.mount('/content/gdrive')"
      ],
      "execution_count": 3,
      "outputs": [
        {
          "output_type": "stream",
          "text": [
            "Go to this URL in a browser: https://accounts.google.com/o/oauth2/auth?client_id=947318989803-6bn6qk8qdgf4n4g3pfee6491hc0brc4i.apps.googleusercontent.com&redirect_uri=urn%3aietf%3awg%3aoauth%3a2.0%3aoob&response_type=code&scope=email%20https%3a%2f%2fwww.googleapis.com%2fauth%2fdocs.test%20https%3a%2f%2fwww.googleapis.com%2fauth%2fdrive%20https%3a%2f%2fwww.googleapis.com%2fauth%2fdrive.photos.readonly%20https%3a%2f%2fwww.googleapis.com%2fauth%2fpeopleapi.readonly\n",
            "\n",
            "Enter your authorization code:\n",
            "··········\n",
            "Mounted at /content/gdrive\n"
          ],
          "name": "stdout"
        }
      ]
    },
    {
      "cell_type": "code",
      "metadata": {
        "id": "5tXOZYE8zLaC",
        "colab_type": "code",
        "colab": {}
      },
      "source": [
        "root_path = 'gdrive/My Drive/MHEALTHDATASET'"
      ],
      "execution_count": 0,
      "outputs": []
    },
    {
      "cell_type": "code",
      "metadata": {
        "id": "HA5Ku6D-0xZ_",
        "colab_type": "code",
        "outputId": "ff6f8311-2d33-495e-8ceb-2e32bdfdb0f4",
        "colab": {
          "base_uri": "https://localhost:8080/",
          "height": 33
        }
      },
      "source": [
        "! ls"
      ],
      "execution_count": 5,
      "outputs": [
        {
          "output_type": "stream",
          "text": [
            "gdrive\tsample_data\n"
          ],
          "name": "stdout"
        }
      ]
    },
    {
      "cell_type": "code",
      "metadata": {
        "id": "UWT4e8Bq1Htz",
        "colab_type": "code",
        "colab": {}
      },
      "source": [
        "! cd gdrive"
      ],
      "execution_count": 0,
      "outputs": []
    },
    {
      "cell_type": "code",
      "metadata": {
        "id": "EO9BZLj6xV9P",
        "colab_type": "code",
        "outputId": "b4cc5dda-0136-4f54-8469-dfaf472732de",
        "colab": {
          "base_uri": "https://localhost:8080/",
          "height": 33
        }
      },
      "source": [
        "! ls"
      ],
      "execution_count": 7,
      "outputs": [
        {
          "output_type": "stream",
          "text": [
            "gdrive\tsample_data\n"
          ],
          "name": "stdout"
        }
      ]
    },
    {
      "cell_type": "code",
      "metadata": {
        "id": "vr2wSM3uy4cp",
        "colab_type": "code",
        "colab": {}
      },
      "source": [
        "!cd gdrive/My\\ Drive"
      ],
      "execution_count": 0,
      "outputs": []
    },
    {
      "cell_type": "code",
      "metadata": {
        "id": "yNi9MWjLzGwz",
        "colab_type": "code",
        "outputId": "093db283-8275-42a6-e0f3-6274ddb16b34",
        "colab": {
          "base_uri": "https://localhost:8080/",
          "height": 33
        }
      },
      "source": [
        "!ls"
      ],
      "execution_count": 9,
      "outputs": [
        {
          "output_type": "stream",
          "text": [
            "gdrive\tsample_data\n"
          ],
          "name": "stdout"
        }
      ]
    },
    {
      "cell_type": "code",
      "metadata": {
        "id": "KnJqCX4KxiNX",
        "colab_type": "code",
        "colab": {}
      },
      "source": [
        "sub_1 = pd.read_excel('gdrive/My Drive/MHEALTHDATASET/Book1.xlsx', index_col=None, header=None)"
      ],
      "execution_count": 0,
      "outputs": []
    },
    {
      "cell_type": "code",
      "metadata": {
        "id": "KZQJ69dl1zlT",
        "colab_type": "code",
        "colab": {}
      },
      "source": [
        "def fn(path):\n",
        "  data = pd.read_excel(path, index_col=None, header=None)\n",
        "  return data"
      ],
      "execution_count": 0,
      "outputs": []
    },
    {
      "cell_type": "code",
      "metadata": {
        "id": "oqwoYF0u7O5k",
        "colab_type": "code",
        "colab": {}
      },
      "source": [
        "sub_1 = fn('gdrive/My Drive/MHEALTHDATASET/Book1.xlsx') "
      ],
      "execution_count": 0,
      "outputs": []
    },
    {
      "cell_type": "code",
      "metadata": {
        "id": "UAZUyDk29uWE",
        "colab_type": "code",
        "colab": {}
      },
      "source": [
        "# print(sub_1)"
      ],
      "execution_count": 0,
      "outputs": []
    },
    {
      "cell_type": "code",
      "metadata": {
        "id": "qCAKiLdlHWIM",
        "colab_type": "code",
        "colab": {}
      },
      "source": [
        "sub_1_23 = sub_1[23]"
      ],
      "execution_count": 0,
      "outputs": []
    },
    {
      "cell_type": "code",
      "metadata": {
        "id": "MvKO29qyVtOW",
        "colab_type": "code",
        "colab": {}
      },
      "source": [
        "sub_1_23 = sub_1_23.replace(0, 1)"
      ],
      "execution_count": 0,
      "outputs": []
    },
    {
      "cell_type": "code",
      "metadata": {
        "id": "_SLNmNW8-of1",
        "colab_type": "code",
        "colab": {}
      },
      "source": [
        "# print(sub_1_23)"
      ],
      "execution_count": 0,
      "outputs": []
    },
    {
      "cell_type": "code",
      "metadata": {
        "id": "PxCWZgpDnIfY",
        "colab_type": "code",
        "outputId": "c855d48a-505b-40be-b4f6-0662e421164d",
        "colab": {
          "base_uri": "https://localhost:8080/",
          "height": 251
        }
      },
      "source": [
        "sub_1 = sub_1.drop(columns=[23])\n",
        "print(sub_1)"
      ],
      "execution_count": 17,
      "outputs": [
        {
          "output_type": "stream",
          "text": [
            "            0         1        2   ...        20         21         22\n",
            "0      -9.8184  0.009971  0.29563  ...  -2.35000  -1.610200  -0.030899\n",
            "1      -9.8489  0.524040  0.37348  ...  -2.16320  -0.882540   0.326570\n",
            "2      -9.6602  0.181850  0.43742  ...  -1.61750  -0.165620  -0.030693\n",
            "3      -9.6507  0.214220  0.24033  ...  -1.07710   0.006945  -0.382620\n",
            "4      -9.7030  0.303890  0.31156  ...  -0.53684   0.175900  -1.095500\n",
            "...        ...       ...      ...  ...       ...        ...        ...\n",
            "161275 -9.4032  0.464170 -3.29510  ...  40.18000  14.369000 -29.304000\n",
            "161276 -9.5201  0.751360 -3.84820  ...  26.90100  -2.929500 -30.119000\n",
            "161277 -9.3682  1.239600 -3.02530  ...  17.28800   5.330800 -30.393000\n",
            "161278 -8.6702  1.185900 -3.01960  ...  17.43000  19.502000 -28.727000\n",
            "161279 -8.7211  1.205600 -2.00730  ...  16.53500  19.779000 -20.084000\n",
            "\n",
            "[161280 rows x 23 columns]\n"
          ],
          "name": "stdout"
        }
      ]
    },
    {
      "cell_type": "code",
      "metadata": {
        "id": "auSnYFR7W013",
        "colab_type": "code",
        "colab": {}
      },
      "source": [
        "sub_1_new = pd.concat([sub_1, sub_1_23], axis = 1)"
      ],
      "execution_count": 0,
      "outputs": []
    },
    {
      "cell_type": "code",
      "metadata": {
        "id": "Z0d6ICvcXhao",
        "colab_type": "code",
        "outputId": "0d62b5ef-9136-4cb1-b714-2f480ad4f958",
        "colab": {
          "base_uri": "https://localhost:8080/",
          "height": 251
        }
      },
      "source": [
        "print(sub_1_new)"
      ],
      "execution_count": 19,
      "outputs": [
        {
          "output_type": "stream",
          "text": [
            "            0         1        2         3   ...        20         21         22  23\n",
            "0      -9.8184  0.009971  0.29563  0.004186  ...  -2.35000  -1.610200  -0.030899   1\n",
            "1      -9.8489  0.524040  0.37348  0.004186  ...  -2.16320  -0.882540   0.326570   1\n",
            "2      -9.6602  0.181850  0.43742  0.016745  ...  -1.61750  -0.165620  -0.030693   1\n",
            "3      -9.6507  0.214220  0.24033  0.079540  ...  -1.07710   0.006945  -0.382620   1\n",
            "4      -9.7030  0.303890  0.31156  0.221870  ...  -0.53684   0.175900  -1.095500   1\n",
            "...        ...       ...      ...       ...  ...       ...        ...        ...  ..\n",
            "161275 -9.4032  0.464170 -3.29510  0.272110  ...  40.18000  14.369000 -29.304000   1\n",
            "161276 -9.5201  0.751360 -3.84820 -0.104660  ...  26.90100  -2.929500 -30.119000   1\n",
            "161277 -9.3682  1.239600 -3.02530 -0.138150  ...  17.28800   5.330800 -30.393000   1\n",
            "161278 -8.6702  1.185900 -3.01960 -0.066981  ...  17.43000  19.502000 -28.727000   1\n",
            "161279 -8.7211  1.205600 -2.00730 -0.012559  ...  16.53500  19.779000 -20.084000   1\n",
            "\n",
            "[161280 rows x 24 columns]\n"
          ],
          "name": "stdout"
        }
      ]
    },
    {
      "cell_type": "code",
      "metadata": {
        "id": "xPfDzvvUopmZ",
        "colab_type": "code",
        "colab": {}
      },
      "source": [
        "def rename_labels(case, i):\n",
        "  case_23 = case[23]\n",
        "  case_23 = case_23.replace(0, i)\n",
        "  case = case.drop(columns=[23])\n",
        "  data_2 = pd.concat([case, case_23], axis = 1)\n",
        "  return data_2"
      ],
      "execution_count": 0,
      "outputs": []
    },
    {
      "cell_type": "code",
      "metadata": {
        "id": "aIjsfuam96f6",
        "colab_type": "code",
        "colab": {}
      },
      "source": [
        "sub_2 = fn('gdrive/My Drive/MHEALTHDATASET/Book2.xlsx') "
      ],
      "execution_count": 0,
      "outputs": []
    },
    {
      "cell_type": "code",
      "metadata": {
        "id": "SPQZw98UoXjs",
        "colab_type": "code",
        "colab": {}
      },
      "source": [
        "sub_2_new = rename_labels(sub_2, 2)"
      ],
      "execution_count": 0,
      "outputs": []
    },
    {
      "cell_type": "code",
      "metadata": {
        "id": "BO20pk9XyjoQ",
        "colab_type": "code",
        "outputId": "b115bafb-65ea-4502-b698-73066a425e8c",
        "colab": {
          "base_uri": "https://localhost:8080/",
          "height": 251
        }
      },
      "source": [
        "print(sub_2_new)"
      ],
      "execution_count": 23,
      "outputs": [
        {
          "output_type": "stream",
          "text": [
            "            0         1       2        3   ...        20        21          22  23\n",
            "0      -9.8646  0.298600  1.6900 -0.25955  ...   0.72891   1.07810   -0.357210   2\n",
            "1      -9.7753  0.381060  1.6132 -0.12977  ...   0.18670   0.71683   -0.725460   2\n",
            "2      -9.6195  0.169430  1.7205 -0.10466  ...   0.18855   0.90189   -0.366260   2\n",
            "3      -9.7610  0.169380  1.5837 -0.11722  ...   0.18677   0.72405   -0.003505   2\n",
            "4      -9.8078 -0.013582  1.6514 -0.13815  ...   0.74339   2.52610   -0.732410   2\n",
            "...        ...       ...     ...      ...  ...       ...       ...         ...  ..\n",
            "130556 -9.4231 -0.563010  1.4230 -0.23862  ... -69.95800 -29.95400 -125.290000   2\n",
            "130557 -9.5361 -0.465850  1.6949 -0.23862  ... -65.68200 -33.15400 -114.340000   2\n",
            "130558 -9.4680 -0.334920  1.8014 -0.21769  ... -66.48100 -41.28100  -92.975000   2\n",
            "130559 -9.6448 -0.587190  1.5998 -0.23025  ... -58.77700 -42.85300  -79.086000   2\n",
            "130560 -9.0025  0.125130  2.7271  0.24699  ...   3.61930   2.86810    0.043706   2\n",
            "\n",
            "[130561 rows x 24 columns]\n"
          ],
          "name": "stdout"
        }
      ]
    },
    {
      "cell_type": "code",
      "metadata": {
        "id": "OsniCU6Y_GKe",
        "colab_type": "code",
        "colab": {}
      },
      "source": [
        "sub_3 = fn('gdrive/My Drive/MHEALTHDATASET/Book3.xlsx') "
      ],
      "execution_count": 0,
      "outputs": []
    },
    {
      "cell_type": "code",
      "metadata": {
        "id": "zDMaoMonxa3W",
        "colab_type": "code",
        "colab": {}
      },
      "source": [
        "sub_3_new = rename_labels(sub_3, 3)"
      ],
      "execution_count": 0,
      "outputs": []
    },
    {
      "cell_type": "code",
      "metadata": {
        "id": "P6WIzOCxzHBH",
        "colab_type": "code",
        "outputId": "8e9329e3-4338-4f4a-9ada-7039faa14cef",
        "colab": {
          "base_uri": "https://localhost:8080/",
          "height": 251
        }
      },
      "source": [
        "print(sub_3_new)"
      ],
      "execution_count": 26,
      "outputs": [
        {
          "output_type": "stream",
          "text": [
            "             0         1       2        3   ...         20       21         22  23\n",
            "0       -9.4674  0.137210  1.0545  0.23862  ...  -1.605100   1.0685   -3.65290   3\n",
            "1       -9.5991  0.154810  1.1824  0.22606  ...  -2.101500   5.2904    0.62709   3\n",
            "2       -9.8612  0.133170  1.0646  0.20513  ...   0.565620   2.7021   -1.45980   3\n",
            "3       -9.6398  0.174060  1.2367  0.18420  ...   0.244770   6.5233   -0.78236   3\n",
            "4      -10.0360  0.260620  1.2761  0.12559  ...   0.034368   3.4368   -1.11670   3\n",
            "...         ...       ...     ...      ...  ...        ...      ...        ...  ..\n",
            "122107  -7.9261  0.344050 -1.9269 -1.38570  ... -31.169000 -82.7490  115.01000   3\n",
            "122108  -7.3952  0.064886 -1.7626 -1.34800  ... -27.081000 -86.9630  115.13000   3\n",
            "122109  -7.7164 -0.543520 -1.8489 -1.38570  ... -25.230000 -63.3790  116.01000   3\n",
            "122110  -9.4886 -1.326700 -2.0668 -1.32290  ... -20.491000 -38.3460  119.47000   3\n",
            "122111  -9.9039 -1.773400 -2.2649 -1.28100  ... -13.590000 -12.4570  120.07000   3\n",
            "\n",
            "[122112 rows x 24 columns]\n"
          ],
          "name": "stdout"
        }
      ]
    },
    {
      "cell_type": "code",
      "metadata": {
        "id": "wXicPPS6_NBK",
        "colab_type": "code",
        "colab": {}
      },
      "source": [
        "sub_4 = fn('gdrive/My Drive/MHEALTHDATASET/Book4.xlsx') "
      ],
      "execution_count": 0,
      "outputs": []
    },
    {
      "cell_type": "code",
      "metadata": {
        "id": "uvLfU-n9xjSw",
        "colab_type": "code",
        "colab": {}
      },
      "source": [
        "sub_4_new = rename_labels(sub_4, 4)"
      ],
      "execution_count": 0,
      "outputs": []
    },
    {
      "cell_type": "code",
      "metadata": {
        "id": "csGKSl9g_NOK",
        "colab_type": "code",
        "colab": {}
      },
      "source": [
        "sub_5 = fn('gdrive/My Drive/MHEALTHDATASET/Book5.xlsx') "
      ],
      "execution_count": 0,
      "outputs": []
    },
    {
      "cell_type": "code",
      "metadata": {
        "id": "g870UYFCxtk3",
        "colab_type": "code",
        "colab": {}
      },
      "source": [
        "sub_5_new =  rename_labels(sub_5, 5)"
      ],
      "execution_count": 0,
      "outputs": []
    },
    {
      "cell_type": "code",
      "metadata": {
        "id": "8bLbzv3__NSJ",
        "colab_type": "code",
        "colab": {}
      },
      "source": [
        "sub_6 = fn('gdrive/My Drive/MHEALTHDATASET/Book6.xlsx') "
      ],
      "execution_count": 0,
      "outputs": []
    },
    {
      "cell_type": "code",
      "metadata": {
        "id": "VQJMYB7BxyLI",
        "colab_type": "code",
        "colab": {}
      },
      "source": [
        "sub_6_new =  rename_labels(sub_6, 6)"
      ],
      "execution_count": 0,
      "outputs": []
    },
    {
      "cell_type": "code",
      "metadata": {
        "id": "Wk4h-gVV_NVJ",
        "colab_type": "code",
        "colab": {}
      },
      "source": [
        "sub_7 = fn('gdrive/My Drive/MHEALTHDATASET/Book7.xlsx') "
      ],
      "execution_count": 0,
      "outputs": []
    },
    {
      "cell_type": "code",
      "metadata": {
        "id": "uxgSVODFxzkA",
        "colab_type": "code",
        "colab": {}
      },
      "source": [
        "sub_7_new =  rename_labels(sub_7, 7)"
      ],
      "execution_count": 0,
      "outputs": []
    },
    {
      "cell_type": "code",
      "metadata": {
        "id": "AslZpfXs_dfr",
        "colab_type": "code",
        "colab": {}
      },
      "source": [
        "sub_8 = fn('gdrive/My Drive/MHEALTHDATASET/Book8.xlsx') "
      ],
      "execution_count": 0,
      "outputs": []
    },
    {
      "cell_type": "code",
      "metadata": {
        "id": "6SxmPRl8x0HT",
        "colab_type": "code",
        "colab": {}
      },
      "source": [
        "sub_8_new =  rename_labels(sub_8, 8)"
      ],
      "execution_count": 0,
      "outputs": []
    },
    {
      "cell_type": "code",
      "metadata": {
        "id": "3sULLPM8_gLy",
        "colab_type": "code",
        "colab": {}
      },
      "source": [
        "sub_9 = fn('gdrive/My Drive/MHEALTHDATASET/Book9.xlsx') "
      ],
      "execution_count": 0,
      "outputs": []
    },
    {
      "cell_type": "code",
      "metadata": {
        "id": "ckWxXja3x07v",
        "colab_type": "code",
        "colab": {}
      },
      "source": [
        "sub_9_new =  rename_labels(sub_9, 9)"
      ],
      "execution_count": 0,
      "outputs": []
    },
    {
      "cell_type": "code",
      "metadata": {
        "id": "kv_GaYYQ_lNq",
        "colab_type": "code",
        "colab": {}
      },
      "source": [
        "sub_10 = fn('gdrive/My Drive/MHEALTHDATASET/Book10.xlsx') "
      ],
      "execution_count": 0,
      "outputs": []
    },
    {
      "cell_type": "code",
      "metadata": {
        "id": "OgeqjviAx1ZF",
        "colab_type": "code",
        "colab": {}
      },
      "source": [
        "sub_10_new =  rename_labels(sub_10, 10)"
      ],
      "execution_count": 0,
      "outputs": []
    },
    {
      "cell_type": "code",
      "metadata": {
        "id": "pQrPH_bh2ZcB",
        "colab_type": "code",
        "outputId": "f822c025-69c1-4e32-98c6-986fc96dfd80",
        "colab": {
          "base_uri": "https://localhost:8080/",
          "height": 251
        }
      },
      "source": [
        "print(sub_10_new)"
      ],
      "execution_count": 41,
      "outputs": [
        {
          "output_type": "stream",
          "text": [
            "           0         1        2         3   ...       20       21       22  23\n",
            "0     -9.6997 -0.875250 -0.96298 -0.029304  ...  0.71991  0.17803  0.37363  10\n",
            "1     -9.4890 -0.801030 -1.10370 -0.062794  ...  0.54040  0.17978  0.37002  10\n",
            "2     -9.5541 -1.083100 -1.24480 -0.075353  ...  0.72539  0.72599  0.72927  10\n",
            "3     -9.3680 -0.791410 -0.93438 -0.092098  ...  0.54392  0.53186 -0.71646  10\n",
            "4     -9.6678 -0.953350 -1.20160 -0.092098  ...  0.54210  0.35041 -0.71468  10\n",
            "...       ...       ...      ...       ...  ...      ...      ...      ...  ..\n",
            "98299 -9.2476 -0.248070 -2.62230  0.230250  ...  2.40890  7.49610  7.91550  10\n",
            "98300 -9.4632 -0.073513 -2.11190  0.276300  ...  1.69450  7.86600  7.89750  10\n",
            "98301 -9.4011 -0.144580 -3.02350  0.288850  ...  1.15770  8.05280  7.88490  10\n",
            "98302 -9.3732 -0.026252 -2.70760  0.351650  ...  0.27441  9.48790  5.32580  10\n",
            "98303 -9.3518 -0.592450 -2.63230  0.280480  ... -0.98056  9.66360  3.49390  10\n",
            "\n",
            "[98304 rows x 24 columns]\n"
          ],
          "name": "stdout"
        }
      ]
    },
    {
      "cell_type": "code",
      "metadata": {
        "id": "QJ-3Rcro2cER",
        "colab_type": "code",
        "outputId": "1dc300e7-f891-43a4-a5dd-4df3e1a95ee1",
        "colab": {
          "base_uri": "https://localhost:8080/",
          "height": 251
        }
      },
      "source": [
        "frames = [sub_1_new, sub_2_new, sub_3_new, sub_4_new, sub_5_new, sub_6_new, sub_7_new, sub_8_new, sub_9_new, sub_10_new]\n",
        "result = pd.concat(frames)\n",
        "print(result)\n"
      ],
      "execution_count": 42,
      "outputs": [
        {
          "output_type": "stream",
          "text": [
            "           0         1        2         3   ...       20        21        22  23\n",
            "0     -9.8184  0.009971  0.29563  0.004186  ... -2.35000 -1.610200 -0.030899   1\n",
            "1     -9.8489  0.524040  0.37348  0.004186  ... -2.16320 -0.882540  0.326570   1\n",
            "2     -9.6602  0.181850  0.43742  0.016745  ... -1.61750 -0.165620 -0.030693   1\n",
            "3     -9.6507  0.214220  0.24033  0.079540  ... -1.07710  0.006945 -0.382620   1\n",
            "4     -9.7030  0.303890  0.31156  0.221870  ... -0.53684  0.175900 -1.095500   1\n",
            "...       ...       ...      ...       ...  ...      ...       ...       ...  ..\n",
            "98299 -9.2476 -0.248070 -2.62230  0.230250  ...  2.40890  7.496100  7.915500  10\n",
            "98300 -9.4632 -0.073513 -2.11190  0.276300  ...  1.69450  7.866000  7.897500  10\n",
            "98301 -9.4011 -0.144580 -3.02350  0.288850  ...  1.15770  8.052800  7.884900  10\n",
            "98302 -9.3732 -0.026252 -2.70760  0.351650  ...  0.27441  9.487900  5.325800  10\n",
            "98303 -9.3518 -0.592450 -2.63230  0.280480  ... -0.98056  9.663600  3.493900  10\n",
            "\n",
            "[1215745 rows x 24 columns]\n"
          ],
          "name": "stdout"
        }
      ]
    },
    {
      "cell_type": "code",
      "metadata": {
        "id": "hr5QedSq69U0",
        "colab_type": "code",
        "colab": {}
      },
      "source": [
        "result_shuffle = result.sample(frac=1).reset_index(drop=True)"
      ],
      "execution_count": 0,
      "outputs": []
    },
    {
      "cell_type": "code",
      "metadata": {
        "id": "vmrewZhTiWZk",
        "colab_type": "code",
        "outputId": "57fcd9ea-94ac-4f91-aa48-0423fc5aacb4",
        "colab": {
          "base_uri": "https://localhost:8080/",
          "height": 251
        }
      },
      "source": [
        "print(result_shuffle)"
      ],
      "execution_count": 44,
      "outputs": [
        {
          "output_type": "stream",
          "text": [
            "              0         1        2   ...         21         22  23\n",
            "0       -10.8210  0.668330  0.12331  ...  -11.21200  -33.85400   9\n",
            "1        -9.8391 -0.468130 -0.40003  ...   -3.42660   14.35600   2\n",
            "2        -9.4376 -4.384000 -0.33140  ...   22.43000    6.18670   5\n",
            "3        -8.9815 -0.422460  0.94093  ...   -5.63660   39.86000   4\n",
            "4        -9.6981  0.056269  0.83664  ...    0.17257   -0.35193   1\n",
            "...          ...       ...      ...  ...        ...        ...  ..\n",
            "1215740  -9.5539 -1.598500  1.81400  ...  -12.53500    3.47050   7\n",
            "1215741  -9.5885 -0.372790 -1.60200  ...   -0.20356   -4.00500  10\n",
            "1215742 -19.2440  1.569000 -4.42720  ... -119.21000  106.87000  10\n",
            "1215743  -1.4210 -2.181700  0.58260  ...    1.80960  -35.36800  12\n",
            "1215744  -9.7737 -1.215200 -0.37253  ...   -1.49650   -3.57750   9\n",
            "\n",
            "[1215745 rows x 24 columns]\n"
          ],
          "name": "stdout"
        }
      ]
    },
    {
      "cell_type": "code",
      "metadata": {
        "id": "KG2tdOmYiqw1",
        "colab_type": "code",
        "outputId": "cb757bd5-8f4f-427a-bda1-4b11e95a091c",
        "colab": {
          "base_uri": "https://localhost:8080/",
          "height": 399
        }
      },
      "source": [
        "lines = result_shuffle.plot.line()"
      ],
      "execution_count": 45,
      "outputs": [
        {
          "output_type": "display_data",
          "data": {
            "image/png": "[encoded data removed]",
            "text/plain": [
              "<Figure size 432x288 with 1 Axes>"
            ]
          },
          "metadata": {
            "tags": []
          }
        }
      ]
    },
    {
      "cell_type": "code",
      "metadata": {
        "id": "7LnZdz7xjOOZ",
        "colab_type": "code",
        "outputId": "686a7a9a-4cf3-42ba-ba98-5cdf2bb34cd0",
        "colab": {
          "base_uri": "https://localhost:8080/",
          "height": 33
        }
      },
      "source": [
        "len(result_shuffle)"
      ],
      "execution_count": 46,
      "outputs": [
        {
          "output_type": "execute_result",
          "data": {
            "text/plain": [
              "1215745"
            ]
          },
          "metadata": {
            "tags": []
          },
          "execution_count": 46
        }
      ]
    },
    {
      "cell_type": "code",
      "metadata": {
        "id": "Szg3QRpyl9v0",
        "colab_type": "code",
        "outputId": "8a2bacf6-409b-4cc3-e99b-70cf86502902",
        "colab": {
          "base_uri": "https://localhost:8080/",
          "height": 280
        }
      },
      "source": [
        " df = pd.DataFrame({'Volunteers':['sub_1', 'sub_2', 'sub_3', 'sub_4', 'sub_5', 'sub_6', 'sub_7', 'sub_8', 'sub_9', 'sub_10'],\n",
        "                    'val':[len(sub_1), len(sub_2), len(sub_3), len(sub_4), len(sub_5), len(sub_6), len(sub_7), len(sub_8), len(sub_9), len(sub_10)]})\n",
        " axis = df.plot.bar(x='Volunteers', y='val', rot=0)"
      ],
      "execution_count": 47,
      "outputs": [
        {
          "output_type": "display_data",
          "data": {
            "image/png": "[encoded data removed]",
            "text/plain": [
              "<Figure size 432x288 with 1 Axes>"
            ]
          },
          "metadata": {
            "tags": []
          }
        }
      ]
    },
    {
      "cell_type": "code",
      "metadata": {
        "id": "hKHrm3WOnhAy",
        "colab_type": "code",
        "colab": {}
      },
      "source": [
        "data_3 = result_shuffle.drop(columns=[23])"
      ],
      "execution_count": 0,
      "outputs": []
    },
    {
      "cell_type": "code",
      "metadata": {
        "id": "xLQT2GDFmnsI",
        "colab_type": "code",
        "outputId": "3833cc81-e38f-4fc9-e049-7de537436913",
        "colab": {
          "base_uri": "https://localhost:8080/",
          "height": 251
        }
      },
      "source": [
        "print(data_3)"
      ],
      "execution_count": 49,
      "outputs": [
        {
          "output_type": "stream",
          "text": [
            "              0         1        2   ...        20         21         22\n",
            "0       -10.8210  0.668330  0.12331  ...  -1.54840  -11.21200  -33.85400\n",
            "1        -9.8391 -0.468130 -0.40003  ...  -5.95890   -3.42660   14.35600\n",
            "2        -9.4376 -4.384000 -0.33140  ...  13.68900   22.43000    6.18670\n",
            "3        -8.9815 -0.422460  0.94093  ...   4.61150   -5.63660   39.86000\n",
            "4        -9.6981  0.056269  0.83664  ...   0.54033    0.17257   -0.35193\n",
            "...          ...       ...      ...  ...       ...        ...        ...\n",
            "1215740  -9.5539 -1.598500  1.81400  ...  22.85500  -12.53500    3.47050\n",
            "1215741  -9.5885 -0.372790 -1.60200  ...  -1.79740   -0.20356   -4.00500\n",
            "1215742 -19.2440  1.569000 -4.42720  ... -41.22800 -119.21000  106.87000\n",
            "1215743  -1.4210 -2.181700  0.58260  ...   1.45440    1.80960  -35.36800\n",
            "1215744  -9.7737 -1.215200 -0.37253  ...   0.88270   -1.49650   -3.57750\n",
            "\n",
            "[1215745 rows x 23 columns]\n"
          ],
          "name": "stdout"
        }
      ]
    },
    {
      "cell_type": "code",
      "metadata": {
        "id": "1adnzDtFp_bJ",
        "colab_type": "code",
        "colab": {}
      },
      "source": [
        "normalized_df=(data_3-data_3.min())/(data_3.max()-data_3.min())"
      ],
      "execution_count": 0,
      "outputs": []
    },
    {
      "cell_type": "code",
      "metadata": {
        "id": "ZZ6BFTM5sKew",
        "colab_type": "code",
        "outputId": "df45793b-0b03-43dc-837f-06ab0465af1f",
        "colab": {
          "base_uri": "https://localhost:8080/",
          "height": 251
        }
      },
      "source": [
        "print(normalized_df)"
      ],
      "execution_count": 51,
      "outputs": [
        {
          "output_type": "stream",
          "text": [
            "               0         1         2   ...        20        21        22\n",
            "0        0.279712  0.507268  0.415371  ...  0.556809  0.502648  0.497331\n",
            "1        0.303354  0.479627  0.403636  ...  0.549074  0.513744  0.532400\n",
            "2        0.313021  0.384385  0.405175  ...  0.583533  0.550594  0.526457\n",
            "3        0.324003  0.480738  0.433705  ...  0.567613  0.510594  0.550952\n",
            "4        0.306749  0.492382  0.431366  ...  0.560473  0.518873  0.521701\n",
            "...           ...       ...       ...  ...       ...       ...       ...\n",
            "1215740  0.310221  0.452134  0.453282  ...  0.599609  0.500762  0.524482\n",
            "1215741  0.309388  0.481946  0.376685  ...  0.556373  0.518337  0.519044\n",
            "1215742  0.076905  0.529174  0.313335  ...  0.487218  0.348730  0.599696\n",
            "1215743  0.506044  0.437950  0.425670  ...  0.562076  0.521206  0.496230\n",
            "1215744  0.304929  0.461457  0.404253  ...  0.561073  0.516494  0.519355\n",
            "\n",
            "[1215745 rows x 23 columns]\n"
          ],
          "name": "stdout"
        }
      ]
    },
    {
      "cell_type": "code",
      "metadata": {
        "id": "d69SK4vTsVA_",
        "colab_type": "code",
        "colab": {}
      },
      "source": [
        "X = normalized_df \n",
        "y = result_shuffle[23]\n",
        "X_train, X_test, y_train, y_test = train_test_split(X, y, test_size=0.30, random_state=42)"
      ],
      "execution_count": 0,
      "outputs": []
    },
    {
      "cell_type": "code",
      "metadata": {
        "id": "vT6ZoDZSY-O0",
        "colab_type": "code",
        "colab": {}
      },
      "source": [
        "from sklearn.ensemble import RandomForestClassifier\n",
        "from sklearn.metrics import accuracy_score"
      ],
      "execution_count": 0,
      "outputs": []
    },
    {
      "cell_type": "code",
      "metadata": {
        "id": "qr3SeSlTZOLg",
        "colab_type": "code",
        "colab": {}
      },
      "source": [
        "clf = RandomForestClassifier(n_estimators=400, max_depth=23, random_state=42)"
      ],
      "execution_count": 0,
      "outputs": []
    },
    {
      "cell_type": "code",
      "metadata": {
        "id": "463npgsFZXvt",
        "colab_type": "code",
        "colab": {
          "base_uri": "https://localhost:8080/",
          "height": 134
        },
        "outputId": "f9ad49c2-f2ff-4c87-9e2a-82a9dd9a8886"
      },
      "source": [
        "clf.fit(X_train, y_train)"
      ],
      "execution_count": 55,
      "outputs": [
        {
          "output_type": "execute_result",
          "data": {
            "text/plain": [
              "RandomForestClassifier(bootstrap=True, class_weight=None, criterion='gini',\n",
              "                       max_depth=23, max_features='auto', max_leaf_nodes=None,\n",
              "                       min_impurity_decrease=0.0, min_impurity_split=None,\n",
              "                       min_samples_leaf=1, min_samples_split=2,\n",
              "                       min_weight_fraction_leaf=0.0, n_estimators=400,\n",
              "                       n_jobs=None, oob_score=False, random_state=42, verbose=0,\n",
              "                       warm_start=False)"
            ]
          },
          "metadata": {
            "tags": []
          },
          "execution_count": 55
        }
      ]
    },
    {
      "cell_type": "code",
      "metadata": {
        "id": "lqcKJDr7ZY74",
        "colab_type": "code",
        "colab": {}
      },
      "source": [
        "pred = clf.predict(X_test)"
      ],
      "execution_count": 0,
      "outputs": []
    },
    {
      "cell_type": "code",
      "metadata": {
        "id": "x9qwsm54ZkzI",
        "colab_type": "code",
        "colab": {
          "base_uri": "https://localhost:8080/",
          "height": 33
        },
        "outputId": "9f447850-cfc2-415e-b980-fb79507fbc92"
      },
      "source": [
        "accuracy_score(y_test, pred) "
      ],
      "execution_count": 57,
      "outputs": [
        {
          "output_type": "execute_result",
          "data": {
            "text/plain": [
              "0.9204357267413167"
            ]
          },
          "metadata": {
            "tags": []
          },
          "execution_count": 57
        }
      ]
    },
    {
      "cell_type": "code",
      "metadata": {
        "id": "0Z3ZqPMNm6oB",
        "colab_type": "code",
        "colab": {}
      },
      "source": [
        "from sklearn.metrics import confusion_matrix"
      ],
      "execution_count": 0,
      "outputs": []
    },
    {
      "cell_type": "code",
      "metadata": {
        "id": "XgwpeorLowRE",
        "colab_type": "code",
        "outputId": "6dbe6797-0f00-43d7-b31b-e8cb7066538b",
        "colab": {
          "base_uri": "https://localhost:8080/",
          "height": 418
        }
      },
      "source": [
        "confusion_matrix(y_test, pred)"
      ],
      "execution_count": 59,
      "outputs": [
        {
          "output_type": "execute_result",
          "data": {
            "text/plain": [
              "array([[44114,   709,   226,   234,   215,   195,   121,   364,   634,\n",
              "          292,   147,    36],\n",
              "       [  305, 35092,   235,   283,   225,   150,   165,   361,   415,\n",
              "          330,   137,    78],\n",
              "       [  229,   430, 30860,  1144,   449,   162,   264,   315,   737,\n",
              "          440,   199,    53],\n",
              "       [  202,   362,   714, 30124,   486,    94,   298,   254,   391,\n",
              "          409,   140,    57],\n",
              "       [  319,   425,   164,   254, 32368,   208,   167,   219,   280,\n",
              "          290,   206,    25],\n",
              "       [  162,   174,   142,   279,   342, 25985,   160,   216,   417,\n",
              "          206,   162,    49],\n",
              "       [  282,   301,    98,   301,   435,   185, 27389,   112,   342,\n",
              "          290,   155,    34],\n",
              "       [  277,   484,   237,   182,   291,   147,    89, 35082,   201,\n",
              "          220,   117,    59],\n",
              "       [  441,   265,   433,   284,   260,   154,   169,   271, 36336,\n",
              "          417,   426,   101],\n",
              "       [  162,   116,   127,   160,   153,   116,   186,   154,   300,\n",
              "        26646,   245,    27],\n",
              "       [    5,     1,     3,     0,     3,     0,     1,     4,     9,\n",
              "           66,  9110,     0],\n",
              "       [   81,    52,     6,     6,   103,     5,   130,    31,    15,\n",
              "          129,    11,  2599]])"
            ]
          },
          "metadata": {
            "tags": []
          },
          "execution_count": 59
        }
      ]
    },
    {
      "cell_type": "code",
      "metadata": {
        "id": "vic_g5aLFZVY",
        "colab_type": "code",
        "outputId": "c0f1cd7a-1a55-4a72-e178-df5354b832c5",
        "colab": {
          "base_uri": "https://localhost:8080/",
          "height": 435
        }
      },
      "source": [
        "corr_matrix = result_shuffle.corr()\n",
        "k = corr_matrix[23].sort_values(ascending=False)\n",
        "print(k)"
      ],
      "execution_count": 60,
      "outputs": [
        {
          "output_type": "stream",
          "text": [
            "23    1.000000\n",
            "8     0.137363\n",
            "17    0.078975\n",
            "5     0.061563\n",
            "21    0.024386\n",
            "1     0.022977\n",
            "19    0.019150\n",
            "0     0.011935\n",
            "13    0.009443\n",
            "4     0.005339\n",
            "22    0.001077\n",
            "3     0.000634\n",
            "11    0.000092\n",
            "12   -0.012940\n",
            "20   -0.013924\n",
            "9    -0.034867\n",
            "14   -0.043246\n",
            "18   -0.046722\n",
            "15   -0.053377\n",
            "7    -0.075452\n",
            "6    -0.091810\n",
            "10   -0.100439\n",
            "16   -0.141980\n",
            "2    -0.173404\n",
            "Name: 23, dtype: float64\n"
          ],
          "name": "stdout"
        }
      ]
    },
    {
      "cell_type": "code",
      "metadata": {
        "id": "fHjM-PK_r-SU",
        "colab_type": "code",
        "colab": {}
      },
      "source": [
        ""
      ],
      "execution_count": 0,
      "outputs": []
    }
  ]
}